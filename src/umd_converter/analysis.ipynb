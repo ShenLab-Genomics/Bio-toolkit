{
 "cells": [
  {
   "cell_type": "code",
   "execution_count": 23,
   "metadata": {},
   "outputs": [],
   "source": [
    "import pandas as pd\n",
    "import numpy as np\n",
    "import pyhgvs as hgvs\n",
    "import pyhgvs.utils as hgvs_utils\n",
    "from pyfaidx import Fasta"
   ]
  },
  {
   "attachments": {},
   "cell_type": "markdown",
   "metadata": {},
   "source": [
    "## data source\n",
    "html_file: the .html file downloaded from the UMD database\n",
    "\n",
    "transcript: the transcript number for the gene"
   ]
  },
  {
   "cell_type": "code",
   "execution_count": 25,
   "metadata": {},
   "outputs": [],
   "source": [
    "html_file = 'D:/CODE/BioData/UMD_gene/DMD/DMD.html'\n",
    "TRANSCRIPT = 'NM_004006'\n",
    "GENOME = 'D:/CODE/BioData/hg38/hg38.fa'\n",
    "REF_GENE = 'D:/CODE/hgvs/pyhgvs/data/hg38/refGene.txt'\n",
    "\n",
    "CONVERT = True\n",
    "FILT_SNP = True\n",
    "OUTPUT_PATH = './result.csv'"
   ]
  },
  {
   "attachments": {},
   "cell_type": "markdown",
   "metadata": {},
   "source": [
    "# Initialization\n",
    "Initialize hgvs convertor"
   ]
  },
  {
   "cell_type": "code",
   "execution_count": 22,
   "metadata": {},
   "outputs": [],
   "source": [
    "# Read genome sequence using pyfaidx.\n",
    "genome = Fasta(GENOME)\n",
    "\n",
    "# Read RefSeq transcripts into a python dict.\n",
    "# with open('D:/CODE/hgvs/pyhgvs/data/genes.refGene') as infile:\n",
    "with open(REF_GENE) as infile:\n",
    "    transcripts = hgvs_utils.read_transcripts(infile)\n",
    "\n",
    "# Provide a callback for fetching a transcript by its name.\n",
    "def get_transcript(name):\n",
    "    return transcripts.get(name)\n",
    "\n",
    "UMD_columns = ['Protein nomenclature', 'cDNA Nomenclature', 'Exon', 'Codon',\n",
    "       'Structure', 'HCD', 'Rearrangement', 'Mutation type',\n",
    "       'Mutational event', '# records']\n",
    "\n",
    "def task_convert(table, target_path):\n",
    "    res_table = pd.DataFrame(\n",
    "        columns=['chrom', 'offset', 'ref', 'alt'] + UMD_columns, index=None)\n",
    "    cnt = 0\n",
    "    for idx, row in table.iterrows():\n",
    "        try:\n",
    "            ts = TRANSCRIPT\n",
    "            cmark = row['cDNA Nomenclature']\n",
    "            # print(ts + ':' + str(cmark))\n",
    "            chrom, offset, ref, alt = hgvs.parse_hgvs_name(\n",
    "                ts + ':' + str(cmark), genome, get_transcript=get_transcript, normalize=True\n",
    "            )\n",
    "            # print(chrom,offset,ref,alt)\n",
    "            # to make output file not too large\n",
    "            if (len(ref)>200) or (len(alt)>200):\n",
    "                continue\n",
    "            if FILT_SNP and ( (len(ref) > 1) or (len(alt) > 1)):\n",
    "                continue\n",
    "            if ref == alt:\n",
    "                continue\n",
    "            feature_dict = {}\n",
    "            for co in UMD_columns:\n",
    "                feature_dict[co] = row[co]\n",
    "            res_table.loc[cnt] = pd.Series({'chrom': chrom, 'offset': offset,\n",
    "                                            'ref': ref, 'alt': alt,\n",
    "                                            **feature_dict})\n",
    "            cnt += 1\n",
    "        except Exception as e:\n",
    "            print(e)\n",
    "    res_table.to_csv(target_path, sep='\\t')\n",
    "    return"
   ]
  },
  {
   "attachments": {},
   "cell_type": "markdown",
   "metadata": {},
   "source": [
    "# Load data"
   ]
  },
  {
   "cell_type": "code",
   "execution_count": 4,
   "metadata": {},
   "outputs": [
    {
     "name": "stdout",
     "output_type": "stream",
     "text": [
      "     Protein nomenclature cDNA Nomenclature Exon   Codon  \\\n",
      "0                 p.Met1?       c.-648_0dup    1     1.0   \n",
      "1                     NaN               NaN  NaN     NaN   \n",
      "2                 p.Met1?      c.1_11055del    1     1.0   \n",
      "3                     NaN               NaN  NaN     NaN   \n",
      "4                 p.Met1?       c.1_1992del    1     1.0   \n",
      "...                   ...               ...  ...     ...   \n",
      "1709                  NaN               NaN  NaN     NaN   \n",
      "1710           p.Gln3589X        c.10765C>T   75  3589.0   \n",
      "1711                  NaN               NaN  NaN     NaN   \n",
      "1712           p.Ser3637X        c.10910C>A   76  3637.0   \n",
      "1713                  NaN               NaN  NaN     NaN   \n",
      "\n",
      "                    Structure  HCD  \\\n",
      "0         Dp427m unique N-Ter  NaN   \n",
      "1                         NaN  NaN   \n",
      "2         Dp427m unique N-Ter  NaN   \n",
      "3                         NaN  NaN   \n",
      "4         Dp427m unique N-Ter  NaN   \n",
      "...                       ...  ...   \n",
      "1709                      NaN  NaN   \n",
      "1710  Carboxy-terminal region  NaN   \n",
      "1711                      NaN  NaN   \n",
      "1712  Carboxy-terminal region  NaN   \n",
      "1713                      NaN  NaN   \n",
      "\n",
      "                                          Rearrangement Mutation type  \\\n",
      "0     Large rearrangementDuplication from 5' region ...           Fr.   \n",
      "1                                                   NaN           NaN   \n",
      "2         Large rearrangementDeletion from exon 1 to 79           InF   \n",
      "3                                                   NaN           NaN   \n",
      "4         Large rearrangementDeletion from exon 1 to 16           InF   \n",
      "...                                                 ...           ...   \n",
      "1709                                                NaN           NaN   \n",
      "1710                                Small rearrangement            Ts   \n",
      "1711                                                NaN           NaN   \n",
      "1712                                Small rearrangement            Tv   \n",
      "1713                                                NaN           NaN   \n",
      "\n",
      "     Mutational event  # records  ...  Unnamed: 89  Unnamed: 90  Unnamed: 91  \\\n",
      "0         Stop at 228        1.0  ...          NaN          NaN          NaN   \n",
      "1                 NaN        NaN  ...          NaN          NaN          NaN   \n",
      "2        In frame del        4.0  ...          NaN          NaN          NaN   \n",
      "3                 NaN        NaN  ...          NaN          NaN          NaN   \n",
      "4        In frame del        1.0  ...          NaN          NaN          NaN   \n",
      "...               ...        ...  ...          ...          ...          ...   \n",
      "1709              NaN        NaN  ...          NaN          NaN          NaN   \n",
      "1710             C->T        1.0  ...          NaN          NaN          NaN   \n",
      "1711              NaN        NaN  ...          NaN          NaN          NaN   \n",
      "1712             C->A        4.0  ...          NaN          NaN          NaN   \n",
      "1713              NaN        NaN  ...          NaN          NaN          NaN   \n",
      "\n",
      "      Unnamed: 92  Unnamed: 93  Unnamed: 94  Unnamed: 95  Unnamed: 96  \\\n",
      "0             NaN          NaN          NaN          NaN          NaN   \n",
      "1             NaN          NaN          NaN          NaN          NaN   \n",
      "2             NaN          NaN          NaN          NaN          NaN   \n",
      "3             NaN          NaN          NaN          NaN          NaN   \n",
      "4             NaN          NaN          NaN          NaN          NaN   \n",
      "...           ...          ...          ...          ...          ...   \n",
      "1709          NaN          NaN          NaN          NaN          NaN   \n",
      "1710          NaN          NaN          NaN          NaN          NaN   \n",
      "1711          NaN          NaN          NaN          NaN          NaN   \n",
      "1712          NaN          NaN          NaN          NaN          NaN   \n",
      "1713          NaN          NaN          NaN          NaN          NaN   \n",
      "\n",
      "      Unnamed: 97  Unnamed: 98  \n",
      "0             NaN          NaN  \n",
      "1             NaN          NaN  \n",
      "2             NaN          NaN  \n",
      "3             NaN          NaN  \n",
      "4             NaN          NaN  \n",
      "...           ...          ...  \n",
      "1709          NaN          NaN  \n",
      "1710          NaN          NaN  \n",
      "1711          NaN          NaN  \n",
      "1712          NaN          NaN  \n",
      "1713          NaN          NaN  \n",
      "\n",
      "[1714 rows x 99 columns]\n"
     ]
    }
   ],
   "source": [
    "df = pd.read_html(html_file)\n",
    "df = pd.DataFrame(df[0])\n",
    "df.head()"
   ]
  },
  {
   "cell_type": "code",
   "execution_count": 5,
   "metadata": {},
   "outputs": [
    {
     "name": "stdout",
     "output_type": "stream",
     "text": [
      "749\n"
     ]
    }
   ],
   "source": [
    "df = df.dropna(subset=['Protein nomenclature'],axis=0)\n",
    "columns = ['Protein nomenclature', 'cDNA Nomenclature', 'Exon', 'Codon',\n",
    "       'Structure', 'HCD', 'Rearrangement', 'Mutation type',\n",
    "       'Mutational event', '# records']\n",
    "df = df[columns]\n",
    "print('data size:{}'.format(len(df)))"
   ]
  },
  {
   "cell_type": "code",
   "execution_count": 26,
   "metadata": {},
   "outputs": [
    {
     "name": "stdout",
     "output_type": "stream",
     "text": [
      "Invalid HGVS cDNA allele \"[1768T>C; 1769T>G]\"\n",
      "Invalid HGVS cDNA allele \"[6766C>T; 6767T>A]\"\n"
     ]
    }
   ],
   "source": [
    "if CONVERT:\n",
    "    task_convert(df,OUTPUT_PATH)\n",
    "else:\n",
    "    df.to_csv()"
   ]
  }
 ],
 "metadata": {
  "kernelspec": {
   "display_name": "ai",
   "language": "python",
   "name": "python3"
  },
  "language_info": {
   "codemirror_mode": {
    "name": "ipython",
    "version": 3
   },
   "file_extension": ".py",
   "mimetype": "text/x-python",
   "name": "python",
   "nbconvert_exporter": "python",
   "pygments_lexer": "ipython3",
   "version": "3.8.0 (default, Nov  6 2019, 16:00:02) [MSC v.1916 64 bit (AMD64)]"
  },
  "orig_nbformat": 4,
  "vscode": {
   "interpreter": {
    "hash": "6ad081b8ab471115c2dec11003cf6ce6f138fad0e618a61118646fb5cd508aa8"
   }
  }
 },
 "nbformat": 4,
 "nbformat_minor": 2
}
